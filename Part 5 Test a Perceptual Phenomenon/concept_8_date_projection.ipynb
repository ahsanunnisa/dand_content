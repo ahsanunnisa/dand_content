{
 "cells": [
  {
   "cell_type": "markdown",
   "metadata": {},
   "source": [
    "**Date Projection**\n",
    "\n",
    "Complete the which_date() function below which returns the day that follows a specified time period after an initial date. Time periods can be specified in two different ways: as a number of days like \"1 day\" or \"30 days\", or as a number of weeks like \"2 weeks\" or \"12 weeks\".\n",
    "\n",
    "HINT: Python's datetime module will be very useful for solving this problem! documentation: https://docs.python.org/2/library/datetime.html\n",
    "\n",
    "NOTE: This quiz will be evaluated in Python 2."
   ]
  },
  {
   "cell_type": "code",
   "execution_count": null,
   "metadata": {},
   "outputs": [],
   "source": [
    "def which_date(start_date,time):\n",
    "    \"\"\"\n",
    "    This function takes as input a string depicting a date in YYYY/mm/dd\n",
    "    format and a string stating a time period in the form of \"X day(s)\" or\n",
    "    \"Y week(s)\". Output should be a string in form YYYY/mm/dd with the date\n",
    "    that is X days or Y weeks after the initial date.\n",
    "    \"\"\"\n",
    "    \n",
    "    # Replace this with your code!\n",
    "    \n",
    "    return end_date\n",
    "    \n",
    "def test():\n",
    "    \"\"\"\n",
    "    Here are a few tests to check if your code is working correctly! This\n",
    "    function will be run when the Test Run button is selected. Additional\n",
    "    tests that are not part of this function will also be run when the Submit\n",
    "    Answer button is selected.\n",
    "    \"\"\"\n",
    "    assert which_date('2016/02/10','35 days') == '2016/03/16'\n",
    "    assert which_date('2016/12/21','3 weeks') == '2017/01/11'\n",
    "    assert which_date('2015/01/17','1 week') == '2015/01/24'\n",
    "    print(\"All tests completed.\")\n",
    "\n",
    "\n",
    "if __name__ == \"__main__\":\n",
    "    test()"
   ]
  },
  {
   "cell_type": "code",
   "execution_count": null,
   "metadata": {},
   "outputs": [],
   "source": []
  }
 ],
 "metadata": {
  "kernelspec": {
   "display_name": "Python 3",
   "language": "python",
   "name": "python3"
  },
  "language_info": {
   "codemirror_mode": {
    "name": "ipython",
    "version": 3
   },
   "file_extension": ".py",
   "mimetype": "text/x-python",
   "name": "python",
   "nbconvert_exporter": "python",
   "pygments_lexer": "ipython3",
   "version": "3.6.5"
  }
 },
 "nbformat": 4,
 "nbformat_minor": 2
}
