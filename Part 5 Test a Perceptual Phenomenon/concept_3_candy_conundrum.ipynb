{
 "cells": [
  {
   "cell_type": "markdown",
   "metadata": {},
   "source": [
    "**Candy Conundrum**\n",
    "\n",
    "I have two bowls of candy. One is supposed to be filled with candy-covered chocolates, the other filled with fruit-flavored candies with candy shells. Unfortunately, someone has nefariously mixed up the contents of the two bowls, mixing a portion of one bowl into the second, and vice versa. Even worse, the candies are visually indistinguishable, and can only be sorted out by taste.\n",
    "\n",
    "I know that one of the bowls (A) has candies in the following proportions: A ~ {2/3 chocolate, 1/3 fruity}, while the other bowl (B) has candies in the following proportion: B ~ {1/4 chocolate, 3/4 fruity}. Assume for the questions below that both bowls are large enough that small samples will not have a practical effect on the distribution of candies."
   ]
  },
  {
   "cell_type": "markdown",
   "metadata": {},
   "source": [
    "I select a bowl at random and choose a random candy. It's a chocolate candy! What is the probability that I've picked up bowl A (the one weighted towards chocolates)?"
   ]
  },
  {
   "cell_type": "code",
   "execution_count": 8,
   "metadata": {},
   "outputs": [],
   "source": [
    "# probability to get chocolate candy from bowl a\n",
    "p_cia = 2/3\n",
    "# probability to get fruit-flavored candy from bowl a\n",
    "p_fia = 1/3\n",
    "# probability to get chocolate candy from bowl b\n",
    "p_cib = 1/4\n",
    "# probability to get fruit-flavored candy from bowl b\n",
    "p_fib = 3/4\n",
    "# probability to pick bowl a\n",
    "p_a = 1/2\n",
    "#probability to pick bowl b\n",
    "p_b = 1/2"
   ]
  },
  {
   "cell_type": "code",
   "execution_count": 9,
   "metadata": {},
   "outputs": [],
   "source": [
    "#probability to get chocolate\n",
    "p_c = p_cia*p_a + p_cib*p_b"
   ]
  },
  {
   "cell_type": "code",
   "execution_count": 11,
   "metadata": {},
   "outputs": [
    {
     "data": {
      "text/plain": [
       "0.7272727272727273"
      ]
     },
     "execution_count": 11,
     "metadata": {},
     "output_type": "execute_result"
    }
   ],
   "source": [
    "#probability that i've picked bowl a if i got chocolate\n",
    "p_aic = p_cia * p_a / p_c\n",
    "p_aic"
   ]
  },
  {
   "cell_type": "markdown",
   "metadata": {},
   "source": [
    "Continuing with the same bowl as before, I select two more candies. They are both fruity candies. What is the probability that I've picked up bowl A (the one weighted towards chocolates) now? (To clarify, there are three candies drawn in all: one chocolate and two fruity.)"
   ]
  },
  {
   "cell_type": "code",
   "execution_count": 14,
   "metadata": {},
   "outputs": [],
   "source": [
    "#with the assumption that both bowls are large enough that \n",
    "#small samples will not have a practical effect on the distribution of candies.\n",
    "\n",
    "# probability to draw [chocolate, fruity, fruity] from bowl a\n",
    "p_cffia = 2/3 * 1/3 * 1/3\n",
    "# probability to draw [chocolate, fruity, fruity] from bowl b\n",
    "p_cffib = 1/4 * 3/4 * 3/4\n",
    "# probability to draw [chocolate, fruity, fruity]\n",
    "p_cff = p_cffia*p_a + p_cffib*p_b"
   ]
  },
  {
   "cell_type": "code",
   "execution_count": 16,
   "metadata": {},
   "outputs": [
    {
     "data": {
      "text/plain": [
       "0.34501347708894875"
      ]
     },
     "execution_count": 16,
     "metadata": {},
     "output_type": "execute_result"
    }
   ],
   "source": [
    "#probability that i've picked bowl a if i got [chocolate, fruity, fruity]\n",
    "p_aicff = p_cffia * p_a / p_cff\n",
    "p_aicff"
   ]
  },
  {
   "cell_type": "code",
   "execution_count": null,
   "metadata": {},
   "outputs": [],
   "source": []
  }
 ],
 "metadata": {
  "kernelspec": {
   "display_name": "Python 3",
   "language": "python",
   "name": "python3"
  },
  "language_info": {
   "codemirror_mode": {
    "name": "ipython",
    "version": 3
   },
   "file_extension": ".py",
   "mimetype": "text/x-python",
   "name": "python",
   "nbconvert_exporter": "python",
   "pygments_lexer": "ipython3",
   "version": "3.6.5"
  }
 },
 "nbformat": 4,
 "nbformat_minor": 2
}
